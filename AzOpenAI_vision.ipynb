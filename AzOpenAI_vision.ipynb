{
 "cells": [
  {
   "cell_type": "code",
   "execution_count": 5,
   "id": "8f4a9460-b87f-4fed-a7de-fbd1a6874dac",
   "metadata": {},
   "outputs": [],
   "source": [
    "import os\n",
    "from openai import AzureOpenAI"
   ]
  },
  {
   "cell_type": "code",
   "execution_count": 7,
   "id": "71d2a611-10ea-4e44-829c-bef579278a6e",
   "metadata": {},
   "outputs": [],
   "source": [
    "client = AzureOpenAI(\n",
    "    api_key=AZURE_OPENAI_API_KEY,  \n",
    "    api_version=\"2024-02-01\",\n",
    "    azure_endpoint =AZURE_OPENAI_ENDPOINT\n",
    "    )"
   ]
  },
  {
   "cell_type": "code",
   "execution_count": 9,
   "id": "ca83427b-3822-4134-8bb1-4535a2baf265",
   "metadata": {},
   "outputs": [],
   "source": [
    "deployment_name=\"gpt4\""
   ]
  },
  {
   "cell_type": "code",
   "execution_count": 10,
   "id": "3fce06c7-8d04-4d24-bb05-318a6a2054e7",
   "metadata": {},
   "outputs": [
    {
     "name": "stdout",
     "output_type": "stream",
     "text": [
      "ChatCompletion(id='chatcmpl-9ikDFfMgd859ckXpsfJjbkdLcYDeU', choices=[Choice(finish_reason='stop', index=0, logprobs=None, message=ChatCompletionMessage(content=\"This is a black-and-white image of a large bear, likely a grizzly bear or brown bear, standing on some rocks by the water. The bear is facing the camera, showing its full body, with its fur looking thick and slightly wet. The background appears to be water, possibly a river or a lake. The bear's expression is somewhat neutral, and it appears to be in a natural, outdoor environment.\", role='assistant', function_call=None, tool_calls=None), content_filter_results={'hate': {'filtered': False, 'severity': 'safe'}, 'self_harm': {'filtered': False, 'severity': 'safe'}, 'sexual': {'filtered': False, 'severity': 'safe'}, 'violence': {'filtered': False, 'severity': 'safe'}})], created=1720451101, model='gpt-4o-2024-05-13', object='chat.completion', system_fingerprint='fp_abc28019ad', usage=CompletionUsage(completion_tokens=84, prompt_tokens=231, total_tokens=315), prompt_filter_results=[{'prompt_index': 0, 'content_filter_result': {'jailbreak': {'filtered': False, 'detected': False}}}, {'prompt_index': 1, 'content_filter_result': {'sexual': {'filtered': False, 'severity': 'safe'}, 'violence': {'filtered': False, 'severity': 'safe'}, 'hate': {'filtered': False, 'severity': 'safe'}, 'self_harm': {'filtered': False, 'severity': 'safe'}}}])\n"
     ]
    }
   ],
   "source": [
    "response = client.chat.completions.create(\n",
    "    model=deployment_name,\n",
    "    messages=[\n",
    "        { \"role\": \"system\", \"content\": \"You are a helpful assistant.\" },\n",
    "        { \"role\": \"user\", \"content\": [  \n",
    "            { \n",
    "                \"type\": \"text\", \n",
    "                \"text\": \"Describe this picture:\" \n",
    "            },\n",
    "            { \n",
    "                \"type\": \"image_url\",\n",
    "                \"image_url\": {\n",
    "                    \"url\": \"https://placebear.com/g/200/200\"\n",
    "                }\n",
    "            }\n",
    "        ] } \n",
    "    ],\n",
    "    max_tokens=200 \n",
    ")\n",
    "\n",
    "print(response)"
   ]
  },
  {
   "cell_type": "code",
   "execution_count": 11,
   "id": "35f60230-9810-4bb8-b458-c9f6f7a6ba8e",
   "metadata": {},
   "outputs": [
    {
     "name": "stdout",
     "output_type": "stream",
     "text": [
      "This is a black-and-white image of a large bear, likely a grizzly bear or brown bear, standing on some rocks by the water. The bear is facing the camera, showing its full body, with its fur looking thick and slightly wet. The background appears to be water, possibly a river or a lake. The bear's expression is somewhat neutral, and it appears to be in a natural, outdoor environment.\n"
     ]
    }
   ],
   "source": [
    "print(response.choices[0].message.content)"
   ]
  },
  {
   "cell_type": "code",
   "execution_count": null,
   "id": "01b27c12-a9ad-4d9b-8d24-6df7fee144bf",
   "metadata": {},
   "outputs": [],
   "source": []
  },
  {
   "cell_type": "code",
   "execution_count": null,
   "id": "075a6324-d753-47bf-af74-250e9c80c34f",
   "metadata": {},
   "outputs": [],
   "source": []
  }
 ],
 "metadata": {
  "kernelspec": {
   "display_name": "Python 3 (ipykernel)",
   "language": "python",
   "name": "python3"
  },
  "language_info": {
   "codemirror_mode": {
    "name": "ipython",
    "version": 3
   },
   "file_extension": ".py",
   "mimetype": "text/x-python",
   "name": "python",
   "nbconvert_exporter": "python",
   "pygments_lexer": "ipython3",
   "version": "3.11.9"
  }
 },
 "nbformat": 4,
 "nbformat_minor": 5
}
