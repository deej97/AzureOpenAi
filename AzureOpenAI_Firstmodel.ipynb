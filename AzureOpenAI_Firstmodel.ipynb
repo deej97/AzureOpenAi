{
 "cells": [
  {
   "cell_type": "markdown",
   "id": "5e08c801-f254-42e4-b43c-719d07c35433",
   "metadata": {},
   "source": [
    "Azure OpenAPI experiments\n",
    "\n",
    "Created first AzureOpenAPI model with python and AzureOpenAI API.\n"
   ]
  },
  {
   "cell_type": "code",
   "execution_count": 1,
   "id": "39dbeb17-e9b4-4c71-9b66-15347093df4e",
   "metadata": {},
   "outputs": [],
   "source": [
    "import os\n",
    "from openai import AzureOpenAI"
   ]
  },
  {
   "cell_type": "code",
   "execution_count": 4,
   "id": "e1640927-f34a-47e3-996a-f2e61f3fb3ba",
   "metadata": {},
   "outputs": [],
   "source": [
    "AZURE_OPENAI_API_KEY=API_KEY\n",
    "AZURE_OPENAI_ENDPOINT=EndpointName"
   ]
  },
  {
   "cell_type": "code",
   "execution_count": 5,
   "id": "91a2e6d1-4496-40b4-8d0b-d760500fc5f4",
   "metadata": {},
   "outputs": [],
   "source": [
    "client = AzureOpenAI(\n",
    "    api_key=AZURE_OPENAI_API_KEY,  \n",
    "    api_version=\"2024-02-01\",\n",
    "    azure_endpoint =AZURE_OPENAI_ENDPOINT\n",
    "    )"
   ]
  },
  {
   "cell_type": "markdown",
   "id": "c4be0722-acb8-4a74-8f91-c3a435fc6b90",
   "metadata": {},
   "source": [
    "Created a deployment in Azure OpenAI Studio.\n",
    "Deployment name: llmtestmodel\n",
    "Model name: gpt-35-turbo\n",
    "Model version: 0301"
   ]
  },
  {
   "cell_type": "code",
   "execution_count": 68,
   "id": "f54a4121-387b-4a6e-8888-27bb353483ce",
   "metadata": {},
   "outputs": [],
   "source": [
    "deployment_name=Mytestmodel"
   ]
  },
  {
   "cell_type": "code",
   "execution_count": 69,
   "id": "0f658fc3-a632-46ee-8864-ecb12189fb79",
   "metadata": {},
   "outputs": [
    {
     "name": "stdout",
     "output_type": "stream",
     "text": [
      "First job\n",
      "? 10 best suggestions would get the prize.\n",
      "\n",
      "\n"
     ]
    }
   ],
   "source": [
    "print('First job')\n",
    "input_phrase = 'I want to open a new Indian cuisine restaurant. Can you come up with some fancy names for the same'\n",
    "response = client.completions.create(model=deployment_name, prompt=input_phrase, max_tokens=10)\n",
    "#print(response)\n",
    "print(response.choices[0].text)"
   ]
  },
  {
   "cell_type": "markdown",
   "id": "0c127329-1894-4217-96d3-2e9023341941",
   "metadata": {},
   "source": [
    "The above one doesnt come up with really good outputs and the outputs are irrelevant.\n",
    "Assigning a role and setting context for the same gives better outputs."
   ]
  },
  {
   "cell_type": "code",
   "execution_count": 70,
   "id": "3b171fa5-1dc5-451b-bb87-8b8c371273bf",
   "metadata": {},
   "outputs": [
    {
     "name": "stdout",
     "output_type": "stream",
     "text": [
      "1. Chaiwala\n",
      "2. Tandoori Spice\n",
      "3. Masala House\n",
      "4. Curry Corner\n",
      "5. Garam Masala\n",
      "6. Biryani Junction\n",
      "7. Rasoiya\n",
      "8. Dosa Delight\n",
      "9. Dal Makhani Express\n",
      "10. Mumbai Masala.\n"
     ]
    }
   ],
   "source": [
    "inputprompt=\"Give me some recommendation for names of Indian restaurent\"\n",
    "response = client.chat.completions.create(\n",
    "    model=\"llmtestmodel\", # model = \"deployment_name\".\n",
    "    messages=[\n",
    "        {\"role\": \"system\", \"content\": \"You are a creative assistant.\"},\n",
    "        {\"role\": \"user\", \"content\": inputprompt},\n",
    "       \n",
    "    ]\n",
    ")\n",
    "\n",
    "print(response.choices[0].message.content)"
   ]
  },
  {
   "cell_type": "code",
   "execution_count": null,
   "id": "43691e22-362f-4325-8f8c-ff73c6569db3",
   "metadata": {},
   "outputs": [],
   "source": []
  },
  {
   "cell_type": "code",
   "execution_count": null,
   "id": "196c2a58-a3ff-4004-80d2-50470e262d12",
   "metadata": {},
   "outputs": [],
   "source": []
  }
 ],
 "metadata": {
  "kernelspec": {
   "display_name": "Python 3 (ipykernel)",
   "language": "python",
   "name": "python3"
  },
  "language_info": {
   "codemirror_mode": {
    "name": "ipython",
    "version": 3
   },
   "file_extension": ".py",
   "mimetype": "text/x-python",
   "name": "python",
   "nbconvert_exporter": "python",
   "pygments_lexer": "ipython3",
   "version": "3.11.9"
  }
 },
 "nbformat": 4,
 "nbformat_minor": 5
}
